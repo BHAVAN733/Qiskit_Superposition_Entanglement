{
  "nbformat": 4,
  "nbformat_minor": 0,
  "metadata": {
    "colab": {
      "provenance": []
    },
    "kernelspec": {
      "name": "python3",
      "display_name": "Python 3"
    },
    "language_info": {
      "name": "python"
    }
  },
  "cells": [
    {
      "cell_type": "code",
      "execution_count": 29,
      "metadata": {
        "id": "GLv0yzak-rZs"
      },
      "outputs": [],
      "source": [
        "!pip install qiskit --quiet\n",
        "!pip install qiskit-aer --quiet\n"
      ]
    },
    {
      "cell_type": "code",
      "source": [
        "from qiskit import QuantumCircuit\n",
        "from qiskit_aer import AerSimulator            # Correct way to import Aer\n",
        "from qiskit.quantum_info import Statevector\n",
        "from qiskit.visualization import plot_histogram, plot_bloch_multivector\n",
        "import matplotlib.pyplot as plt"
      ],
      "metadata": {
        "id": "QiB7qGhb-u9B"
      },
      "execution_count": 39,
      "outputs": []
    },
    {
      "cell_type": "code",
      "source": [
        "\n",
        "# ===========================\n",
        "# Superposition Example\n",
        "# ===========================\n",
        "# Create 1-qubit circuit\n",
        "qc_super = QuantumCircuit(1)\n",
        "\n",
        "# Apply Hadamard gate to create superposition\n",
        "qc_super.h(0)\n",
        "\n",
        "# Draw the circuit\n",
        "qc_super.draw('text')\n",
        "\n",
        "# Get statevector\n",
        "state_super = Statevector.from_instruction(qc_super)\n",
        "plot_bloch_multivector(state_super)\n",
        "plt.show()\n",
        "\n",
        "# Measure and simulate\n",
        "qc_super.measure_all()\n",
        "simulator = AerSimulator()\n",
        "job_super = simulator.run(qc_super, shots=1024)\n",
        "result_super = job_super.result()\n",
        "counts_super = result_super.get_counts()\n",
        "print(\"Superposition Measurement Counts:\", counts_super)\n",
        "plot_histogram(counts_super)\n",
        "plt.show()"
      ],
      "metadata": {
        "colab": {
          "base_uri": "https://localhost:8080/"
        },
        "id": "YWOVyrpo-76g",
        "outputId": "e0a6c8b9-2f85-4891-9609-0ac3354b523d"
      },
      "execution_count": 19,
      "outputs": [
        {
          "output_type": "stream",
          "name": "stdout",
          "text": [
            "Superposition Measurement Counts: {'1': 526, '0': 498}\n"
          ]
        }
      ]
    },
    {
      "cell_type": "code",
      "source": [
        "qc_ent = QuantumCircuit(2)\n",
        "\n",
        "# Apply Hadamard on qubit 0\n",
        "qc_ent.h(0)\n",
        "\n",
        "# Apply CNOT to entangle qubit 0 and 1\n",
        "qc_ent.cx(0, 1)\n",
        "\n",
        "# Draw the circuit\n",
        "qc_ent.draw('text')\n",
        "\n",
        "# Get statevector\n",
        "state_ent = Statevector.from_instruction(qc_ent)\n",
        "print(\"Entangled Statevector:\", state_ent)\n",
        "plot_bloch_multivector(state_ent)\n",
        "plt.show()\n",
        "\n",
        "# Measure and simulate\n",
        "qc_ent.measure_all()\n",
        "job_ent = simulator.run(qc_ent, shots=1024)\n",
        "result_ent = job_ent.result()\n",
        "counts_ent = result_ent.get_counts()\n",
        "print(\"Entanglement Measurement Counts:\", counts_ent)\n",
        "plot_histogram(counts_ent)\n",
        "plt.show()"
      ],
      "metadata": {
        "colab": {
          "base_uri": "https://localhost:8080/"
        },
        "id": "aoP1lXMj-8mV",
        "outputId": "ede15707-61aa-4d64-ef11-4cbdf6ea52bb"
      },
      "execution_count": 20,
      "outputs": [
        {
          "output_type": "stream",
          "name": "stdout",
          "text": [
            "Entangled Statevector: Statevector([0.70710678+0.j, 0.        +0.j, 0.        +0.j,\n",
            "             0.70710678+0.j],\n",
            "            dims=(2, 2))\n",
            "Entanglement Measurement Counts: {'11': 482, '00': 542}\n"
          ]
        }
      ]
    },
    {
      "cell_type": "code",
      "source": [
        "#Task1 - Super position\n",
        "\n",
        "\n",
        "# -------------------------\n",
        "# Imports\n",
        "# -------------------------\n",
        "from qiskit import QuantumCircuit\n",
        "from qiskit_aer import AerSimulator\n",
        "from qiskit.quantum_info import Statevector\n",
        "from qiskit.visualization import plot_histogram, plot_bloch_multivector\n",
        "import matplotlib.pyplot as plt\n",
        "\n",
        "# -------------------------\n",
        "# Step 1: Create 1-qubit superposition circuit (no measurement)\n",
        "# -------------------------\n",
        "qc = QuantumCircuit(1, 1)\n",
        "qc.h(0)  # Apply Hadamard to create superposition\n",
        "\n",
        "# Circuit diagram before measurement (text version)\n",
        "print(\"Circuit before measurement:\")\n",
        "print(qc.draw('text'))\n",
        "\n",
        "# Statevector visualization (Bloch sphere)\n",
        "state = Statevector.from_instruction(qc)\n",
        "print(\"Statevector:\", state)\n",
        "plot_bloch_multivector(state)\n",
        "plt.show()\n",
        "\n",
        "# -------------------------\n",
        "# Step 2: Add measurement\n",
        "# -------------------------\n",
        "qc.measure(0, 0)\n",
        "\n",
        "# Circuit diagram after measurement (text version)\n",
        "print(\"Circuit after measurement:\")\n",
        "print(qc.draw('text'))\n",
        "\n",
        "# -------------------------\n",
        "# Step 3: Run simulation\n",
        "# -------------------------\n",
        "simulator = AerSimulator()\n",
        "job = simulator.run(qc, shots=1024)\n",
        "result = job.result()\n",
        "counts = result.get_counts()\n",
        "print(\"Measurement counts:\", counts)\n",
        "\n",
        "# Histogram of measurement results\n",
        "plot_histogram(counts)\n",
        "plt.show()"
      ],
      "metadata": {
        "colab": {
          "base_uri": "https://localhost:8080/"
        },
        "id": "qFlVfgq2HMtV",
        "outputId": "c3248d39-9780-40a9-b858-031726788706"
      },
      "execution_count": 53,
      "outputs": [
        {
          "output_type": "stream",
          "name": "stdout",
          "text": [
            "Circuit before measurement:\n",
            "     ┌───┐\n",
            "  q: ┤ H ├\n",
            "     └───┘\n",
            "c: 1/═════\n",
            "          \n",
            "Statevector: Statevector([0.70710678+0.j, 0.70710678+0.j],\n",
            "            dims=(2,))\n",
            "Circuit after measurement:\n",
            "     ┌───┐┌─┐\n",
            "  q: ┤ H ├┤M├\n",
            "     └───┘└╥┘\n",
            "c: 1/══════╩═\n",
            "           0 \n",
            "Measurement counts: {'0': 524, '1': 500}\n"
          ]
        }
      ]
    },
    {
      "cell_type": "code",
      "source": [
        "!pip install pylatexenc --quiet\n"
      ],
      "metadata": {
        "id": "6VXR0LXtGpEN"
      },
      "execution_count": 48,
      "outputs": []
    },
    {
      "cell_type": "code",
      "source": [
        "#Task2- Entanglement\n",
        "# -------------------------\n",
        "# Imports\n",
        "# -------------------------\n",
        "from qiskit import QuantumCircuit\n",
        "from qiskit_aer import AerSimulator\n",
        "from qiskit.quantum_info import Statevector\n",
        "from qiskit.visualization import plot_histogram, plot_bloch_multivector\n",
        "import matplotlib.pyplot as plt\n",
        "\n",
        "# -------------------------\n",
        "# Step 1: Create 2-qubit entangled circuit (no measurement)\n",
        "# -------------------------\n",
        "qc = QuantumCircuit(2, 2)\n",
        "qc.h(0)      # Hadamard on qubit 0\n",
        "qc.cx(0, 1)  # CNOT to entangle q0 -> q1\n",
        "\n",
        "# Circuit diagram before measurement (text version)\n",
        "print(\"Circuit before measurement:\")\n",
        "print(qc.draw('text'))\n",
        "\n",
        "# Statevector visualization (Bloch spheres)\n",
        "state = Statevector.from_instruction(qc)\n",
        "print(\"Statevector:\", state)\n",
        "plot_bloch_multivector(state)\n",
        "plt.show()\n",
        "\n",
        "# -------------------------\n",
        "# Step 2: Add measurement\n",
        "# -------------------------\n",
        "qc.measure([0, 1], [0, 1])\n",
        "\n",
        "# Circuit diagram after measurement (text version)\n",
        "print(\"Circuit after measurement:\")\n",
        "print(qc.draw('text'))\n",
        "\n",
        "# -------------------------\n",
        "# Step 3: Run simulation\n",
        "# -------------------------\n",
        "simulator = AerSimulator()\n",
        "job = simulator.run(qc, shots=1024)\n",
        "result = job.result()\n",
        "counts = result.get_counts()\n",
        "print(\"Measurement counts:\", counts)\n",
        "\n",
        "# Histogram of measurement results\n",
        "plot_histogram(counts)\n",
        "plt.show()"
      ],
      "metadata": {
        "colab": {
          "base_uri": "https://localhost:8080/"
        },
        "id": "uuuzE-AXG3mf",
        "outputId": "e4e449c0-b49e-4536-f375-5f3857414377"
      },
      "execution_count": 51,
      "outputs": [
        {
          "output_type": "stream",
          "name": "stdout",
          "text": [
            "Circuit before measurement:\n",
            "     ┌───┐     \n",
            "q_0: ┤ H ├──■──\n",
            "     └───┘┌─┴─┐\n",
            "q_1: ─────┤ X ├\n",
            "          └───┘\n",
            "c: 2/══════════\n",
            "               \n",
            "Statevector: Statevector([0.70710678+0.j, 0.        +0.j, 0.        +0.j,\n",
            "             0.70710678+0.j],\n",
            "            dims=(2, 2))\n",
            "Circuit after measurement:\n",
            "     ┌───┐     ┌─┐   \n",
            "q_0: ┤ H ├──■──┤M├───\n",
            "     └───┘┌─┴─┐└╥┘┌─┐\n",
            "q_1: ─────┤ X ├─╫─┤M├\n",
            "          └───┘ ║ └╥┘\n",
            "c: 2/═══════════╩══╩═\n",
            "                0  1 \n",
            "Measurement counts: {'11': 501, '00': 523}\n"
          ]
        }
      ]
    }
  ]
}